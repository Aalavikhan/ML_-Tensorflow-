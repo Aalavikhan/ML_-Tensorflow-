{
  "nbformat": 4,
  "nbformat_minor": 0,
  "metadata": {
    "colab": {
      "provenance": [],
      "authorship_tag": "ABX9TyPhM1i55m2u0azrr7EsOLJz",
      "include_colab_link": true
    },
    "kernelspec": {
      "name": "python3",
      "display_name": "Python 3"
    },
    "language_info": {
      "name": "python"
    }
  },
  "cells": [
    {
      "cell_type": "markdown",
      "metadata": {
        "id": "view-in-github",
        "colab_type": "text"
      },
      "source": [
        "<a href=\"https://colab.research.google.com/github/Aalavikhan/ML_-Tensorflow-/blob/main/TF_1_var%2Cind%2Cfunc.ipynb\" target=\"_parent\"><img src=\"https://colab.research.google.com/assets/colab-badge.svg\" alt=\"Open In Colab\"/></a>"
      ]
    },
    {
      "cell_type": "markdown",
      "source": [
        "##Tensors"
      ],
      "metadata": {
        "id": "zJhWmtRcJfcW"
      }
    },
    {
      "cell_type": "code",
      "execution_count": 48,
      "metadata": {
        "id": "aH8mQ7U_EZZv"
      },
      "outputs": [],
      "source": [
        "import tensorflow as tf\n"
      ]
    },
    {
      "cell_type": "code",
      "source": [
        "zero_d_tensor= tf.constant(4)\n",
        "print(zero_d_tensor)"
      ],
      "metadata": {
        "colab": {
          "base_uri": "https://localhost:8080/"
        },
        "id": "gkzTbCElEoIi",
        "outputId": "b511424b-5ef0-49ae-bf17-39c039a315ea"
      },
      "execution_count": 49,
      "outputs": [
        {
          "output_type": "stream",
          "name": "stdout",
          "text": [
            "tf.Tensor(4, shape=(), dtype=int32)\n"
          ]
        }
      ]
    },
    {
      "cell_type": "code",
      "source": [
        "zero_d_tensor.shape"
      ],
      "metadata": {
        "colab": {
          "base_uri": "https://localhost:8080/"
        },
        "id": "pzFqeqmTEyAW",
        "outputId": "acacf08b-18a5-453b-dded-f72a9012a9db"
      },
      "execution_count": 50,
      "outputs": [
        {
          "output_type": "execute_result",
          "data": {
            "text/plain": [
              "TensorShape([])"
            ]
          },
          "metadata": {},
          "execution_count": 50
        }
      ]
    },
    {
      "cell_type": "code",
      "source": [
        "one_d_tensor=tf.constant([1,2,3],dtype=tf.int64)\n",
        "print(one_d_tensor)"
      ],
      "metadata": {
        "colab": {
          "base_uri": "https://localhost:8080/"
        },
        "id": "WSd4DgbBE_xh",
        "outputId": "3b9ab170-a885-45f0-a50b-85325d5046f5"
      },
      "execution_count": 51,
      "outputs": [
        {
          "output_type": "stream",
          "name": "stdout",
          "text": [
            "tf.Tensor([1 2 3], shape=(3,), dtype=int64)\n"
          ]
        }
      ]
    },
    {
      "cell_type": "code",
      "source": [
        "two_d_tensor=tf.constant([[1,2,3],\n",
        "                         [4,5,6]] , dtype=tf.float32)\n",
        "print(two_d_tensor)"
      ],
      "metadata": {
        "colab": {
          "base_uri": "https://localhost:8080/"
        },
        "id": "yblLHmYuFs5d",
        "outputId": "eb69d996-fab0-4af4-a686-5edb739900bb"
      },
      "execution_count": 52,
      "outputs": [
        {
          "output_type": "stream",
          "name": "stdout",
          "text": [
            "tf.Tensor(\n",
            "[[1. 2. 3.]\n",
            " [4. 5. 6.]], shape=(2, 3), dtype=float32)\n"
          ]
        }
      ]
    },
    {
      "cell_type": "code",
      "source": [
        "three_d_tensor=tf.constant([[[1,2,3],\n",
        "                             [4,5,6],\n",
        "                             [7,8,9]],\n",
        "                            [[1,2,3],\n",
        "                            [5,6,7],\n",
        "                            [9,11,12]]])\n",
        "print(three_d_tensor)"
      ],
      "metadata": {
        "colab": {
          "base_uri": "https://localhost:8080/"
        },
        "id": "zsHOodu7GjrD",
        "outputId": "aaddf425-3734-4b48-df8a-ccd82bbeb2fd"
      },
      "execution_count": 53,
      "outputs": [
        {
          "output_type": "stream",
          "name": "stdout",
          "text": [
            "tf.Tensor(\n",
            "[[[ 1  2  3]\n",
            "  [ 4  5  6]\n",
            "  [ 7  8  9]]\n",
            "\n",
            " [[ 1  2  3]\n",
            "  [ 5  6  7]\n",
            "  [ 9 11 12]]], shape=(2, 3, 3), dtype=int32)\n"
          ]
        }
      ]
    },
    {
      "cell_type": "markdown",
      "source": [
        "##Casting\n"
      ],
      "metadata": {
        "id": "NHFSwGNyJcdW"
      }
    },
    {
      "cell_type": "code",
      "source": [
        "tensor1=tf.constant([[1,2.0,3.5],\n",
        "                    [4,5,6]], dtype=tf.float32)"
      ],
      "metadata": {
        "id": "x2hkkVlGJcCf"
      },
      "execution_count": 54,
      "outputs": []
    },
    {
      "cell_type": "code",
      "source": [
        "print(tensor1)"
      ],
      "metadata": {
        "colab": {
          "base_uri": "https://localhost:8080/"
        },
        "id": "SRaWJzfNKBQ_",
        "outputId": "c9b9ffe7-0962-46a6-98ff-909f8762e065"
      },
      "execution_count": 55,
      "outputs": [
        {
          "output_type": "stream",
          "name": "stdout",
          "text": [
            "tf.Tensor(\n",
            "[[1.  2.  3.5]\n",
            " [4.  5.  6. ]], shape=(2, 3), dtype=float32)\n"
          ]
        }
      ]
    },
    {
      "cell_type": "code",
      "source": [
        "casted_tensor1=tf.cast(tensor1, dtype=tf.int64)\n",
        "print(casted_tensor1)"
      ],
      "metadata": {
        "colab": {
          "base_uri": "https://localhost:8080/"
        },
        "id": "vqQLKMigKESj",
        "outputId": "44ade4ba-0f0e-4612-e05a-d752a3bdf247"
      },
      "execution_count": 56,
      "outputs": [
        {
          "output_type": "stream",
          "name": "stdout",
          "text": [
            "tf.Tensor(\n",
            "[[1 2 3]\n",
            " [4 5 6]], shape=(2, 3), dtype=int64)\n"
          ]
        }
      ]
    },
    {
      "cell_type": "markdown",
      "source": [
        "##Numpy array to tensor\n"
      ],
      "metadata": {
        "id": "FhqWE_nbLKY2"
      }
    },
    {
      "cell_type": "code",
      "source": [
        "import numpy as np\n",
        "arr=np.array([1,2,3,4,5])\n",
        "print(arr)"
      ],
      "metadata": {
        "colab": {
          "base_uri": "https://localhost:8080/"
        },
        "id": "q82_WH9pLNx3",
        "outputId": "d50f352b-8080-44c8-be11-fb9d4a6ee959"
      },
      "execution_count": 57,
      "outputs": [
        {
          "output_type": "stream",
          "name": "stdout",
          "text": [
            "[1 2 3 4 5]\n"
          ]
        }
      ]
    },
    {
      "cell_type": "code",
      "source": [
        "converted_to_tensor= tf.convert_to_tensor(arr)\n",
        "print(converted_to_tensor)"
      ],
      "metadata": {
        "colab": {
          "base_uri": "https://localhost:8080/"
        },
        "id": "SZw-qe7fLWCV",
        "outputId": "eccf16e3-89a3-44fe-96bd-55794d9c6472"
      },
      "execution_count": 58,
      "outputs": [
        {
          "output_type": "stream",
          "name": "stdout",
          "text": [
            "tf.Tensor([1 2 3 4 5], shape=(5,), dtype=int64)\n"
          ]
        }
      ]
    },
    {
      "cell_type": "markdown",
      "source": [
        "##Identity matrix using tensor"
      ],
      "metadata": {
        "id": "TlYdyK6aWVgG"
      }
    },
    {
      "cell_type": "markdown",
      "source": [
        "copy eye data from tensorflow website:"
      ],
      "metadata": {
        "id": "HCsVw99zWgRH"
      }
    },
    {
      "cell_type": "code",
      "source": [
        "eye= tf.eye(\n",
        "    num_rows=3,\n",
        "    num_columns=None,\n",
        "    batch_shape=None,\n",
        "    dtype=tf.dtypes.float32,\n",
        "    name=None\n",
        ")\n",
        "print(eye)"
      ],
      "metadata": {
        "colab": {
          "base_uri": "https://localhost:8080/"
        },
        "id": "8nOnMUVhWZ7C",
        "outputId": "5e773c16-d606-4318-9056-b1ea9c5e3f94"
      },
      "execution_count": 59,
      "outputs": [
        {
          "output_type": "stream",
          "name": "stdout",
          "text": [
            "tf.Tensor(\n",
            "[[1. 0. 0.]\n",
            " [0. 1. 0.]\n",
            " [0. 0. 1.]], shape=(3, 3), dtype=float32)\n"
          ]
        }
      ]
    },
    {
      "cell_type": "code",
      "source": [
        "eye= tf.eye(\n",
        "    num_rows=3,\n",
        "    num_columns=5,\n",
        "    batch_shape=None,\n",
        "    dtype=tf.dtypes.float32,\n",
        "    name=None\n",
        ")\n",
        "print(eye)"
      ],
      "metadata": {
        "colab": {
          "base_uri": "https://localhost:8080/"
        },
        "id": "VSTQGyzeYLOA",
        "outputId": "021bfb4e-0c77-4416-e61b-b2b85d586da7"
      },
      "execution_count": 60,
      "outputs": [
        {
          "output_type": "stream",
          "name": "stdout",
          "text": [
            "tf.Tensor(\n",
            "[[1. 0. 0. 0. 0.]\n",
            " [0. 1. 0. 0. 0.]\n",
            " [0. 0. 1. 0. 0.]], shape=(3, 5), dtype=float32)\n"
          ]
        }
      ]
    },
    {
      "cell_type": "code",
      "source": [
        "eye= tf.eye(\n",
        "    num_rows=5,\n",
        "    num_columns=3,\n",
        "    batch_shape=None,\n",
        "    dtype=tf.dtypes.float32,\n",
        "    name=None\n",
        ")\n",
        "print(eye)"
      ],
      "metadata": {
        "colab": {
          "base_uri": "https://localhost:8080/"
        },
        "id": "YwD5Is73YUDb",
        "outputId": "3e5d3f18-5dd1-4ed1-eb25-a773f6f85046"
      },
      "execution_count": 61,
      "outputs": [
        {
          "output_type": "stream",
          "name": "stdout",
          "text": [
            "tf.Tensor(\n",
            "[[1. 0. 0.]\n",
            " [0. 1. 0.]\n",
            " [0. 0. 1.]\n",
            " [0. 0. 0.]\n",
            " [0. 0. 0.]], shape=(5, 3), dtype=float32)\n"
          ]
        }
      ]
    },
    {
      "cell_type": "code",
      "source": [
        "eye= tf.eye(\n",
        "    num_rows=5,\n",
        "    num_columns=None,\n",
        "    batch_shape=[2,],\n",
        "    dtype=tf.dtypes.float32,\n",
        "    name=None\n",
        ")\n",
        "print(eye)"
      ],
      "metadata": {
        "colab": {
          "base_uri": "https://localhost:8080/"
        },
        "id": "kOLyeSDDZD0h",
        "outputId": "1c392d79-e6ff-4757-8307-3460582e1628"
      },
      "execution_count": 62,
      "outputs": [
        {
          "output_type": "stream",
          "name": "stdout",
          "text": [
            "tf.Tensor(\n",
            "[[[1. 0. 0. 0. 0.]\n",
            "  [0. 1. 0. 0. 0.]\n",
            "  [0. 0. 1. 0. 0.]\n",
            "  [0. 0. 0. 1. 0.]\n",
            "  [0. 0. 0. 0. 1.]]\n",
            "\n",
            " [[1. 0. 0. 0. 0.]\n",
            "  [0. 1. 0. 0. 0.]\n",
            "  [0. 0. 1. 0. 0.]\n",
            "  [0. 0. 0. 1. 0.]\n",
            "  [0. 0. 0. 0. 1.]]], shape=(2, 5, 5), dtype=float32)\n"
          ]
        }
      ]
    },
    {
      "cell_type": "markdown",
      "source": [
        "##Fill"
      ],
      "metadata": {
        "id": "PABHVjFcYwlO"
      }
    },
    {
      "cell_type": "code",
      "source": [
        "fill= tf.fill(\n",
        "    [3,4], value=69, name=None, layout=None\n",
        ")\n",
        "print(fill)"
      ],
      "metadata": {
        "colab": {
          "base_uri": "https://localhost:8080/"
        },
        "id": "xeIW0HCFYyOX",
        "outputId": "014d6ff6-09e0-4bca-8664-4fdcc6295d56"
      },
      "execution_count": 63,
      "outputs": [
        {
          "output_type": "stream",
          "name": "stdout",
          "text": [
            "tf.Tensor(\n",
            "[[69 69 69 69]\n",
            " [69 69 69 69]\n",
            " [69 69 69 69]], shape=(3, 4), dtype=int32)\n"
          ]
        }
      ]
    },
    {
      "cell_type": "markdown",
      "source": [
        "##Ones"
      ],
      "metadata": {
        "id": "JZgZ9urMdmfV"
      }
    },
    {
      "cell_type": "code",
      "source": [
        "tensor_one=tf.ones(\n",
        "    [3,4],\n",
        "    dtype=tf.dtypes.float32,\n",
        "    name=None,\n",
        "    layout=None\n",
        ")\n",
        "\n",
        "print(tensor_one)\n",
        "\n",
        "#see ones like tensor, zeros, shape, rank, size, random.normal too\n",
        "#sem shit"
      ],
      "metadata": {
        "colab": {
          "base_uri": "https://localhost:8080/"
        },
        "id": "1laR7Nsfdoji",
        "outputId": "7767c0d5-98aa-431c-af44-cacbc322d11a"
      },
      "execution_count": 64,
      "outputs": [
        {
          "output_type": "stream",
          "name": "stdout",
          "text": [
            "tf.Tensor(\n",
            "[[1. 1. 1. 1.]\n",
            " [1. 1. 1. 1.]\n",
            " [1. 1. 1. 1.]], shape=(3, 4), dtype=float32)\n"
          ]
        }
      ]
    },
    {
      "cell_type": "markdown",
      "source": [
        "##Random Normal"
      ],
      "metadata": {
        "id": "oDR_XgzAgTNW"
      }
    },
    {
      "cell_type": "code",
      "source": [
        "random=tf.random.normal(\n",
        "    [3,4],\n",
        "    mean=100.0,\n",
        "    stddev=0.5,\n",
        "    dtype=tf.dtypes.float32,\n",
        "    seed=None,\n",
        "    name=None\n",
        ")\n",
        "print(random)"
      ],
      "metadata": {
        "colab": {
          "base_uri": "https://localhost:8080/"
        },
        "id": "qiaRAgYKgSa2",
        "outputId": "26c74202-d106-43ad-9d27-1fffe6e8c608"
      },
      "execution_count": 65,
      "outputs": [
        {
          "output_type": "stream",
          "name": "stdout",
          "text": [
            "tf.Tensor(\n",
            "[[100.12243   99.68028  100.58425   99.61109 ]\n",
            " [100.14324  100.04326  100.323265 100.074684]\n",
            " [ 99.46311   99.64142   99.49879   99.42075 ]], shape=(3, 4), dtype=float32)\n"
          ]
        }
      ]
    },
    {
      "cell_type": "markdown",
      "source": [
        "##Uniform Normal"
      ],
      "metadata": {
        "id": "a2vI1jF51iNV"
      }
    },
    {
      "cell_type": "code",
      "source": [
        "uniform = tf.random.uniform(\n",
        "    [5,],\n",
        "    minval=0,\n",
        "    maxval=100,\n",
        "    dtype=tf.dtypes.float32,\n",
        "    seed=None,\n",
        "    name=None\n",
        ")\n",
        "print(uniform)"
      ],
      "metadata": {
        "colab": {
          "base_uri": "https://localhost:8080/"
        },
        "id": "Bx0KqF4k1hzN",
        "outputId": "987436f8-1e2b-412e-ac30-f779e27901d4"
      },
      "execution_count": 69,
      "outputs": [
        {
          "output_type": "stream",
          "name": "stdout",
          "text": [
            "tf.Tensor([38.57608  80.63269  52.386963 96.720215 30.572283], shape=(5,), dtype=float32)\n"
          ]
        }
      ]
    },
    {
      "cell_type": "code",
      "source": [
        "# matching set_seed and seed value argument inside random.uniform function will\n",
        "# generate the same random patterns\n",
        "tf.random.set_seed(4)\n",
        "print(tf.random.uniform(shape=[3,], maxval=3, dtype=tf.int32, seed=14))\n",
        "print(tf.random.uniform(shape=[3,], maxval=3, dtype=tf.int32, seed=10))"
      ],
      "metadata": {
        "colab": {
          "base_uri": "https://localhost:8080/"
        },
        "id": "t02tVAKM3ZKi",
        "outputId": "7b521680-de17-4fd5-c90a-a1c184ac8872"
      },
      "execution_count": 76,
      "outputs": [
        {
          "output_type": "stream",
          "name": "stdout",
          "text": [
            "tf.Tensor([2 0 1], shape=(3,), dtype=int32)\n",
            "tf.Tensor([0 2 0], shape=(3,), dtype=int32)\n"
          ]
        }
      ]
    },
    {
      "cell_type": "code",
      "source": [
        "tf.random.set_seed(4)\n",
        "print(tf.random.uniform(shape=[3,], maxval=3, dtype=tf.int32, seed=14))\n",
        "print(tf.random.uniform(shape=[3,], maxval=3, dtype=tf.int32, seed=10))"
      ],
      "metadata": {
        "colab": {
          "base_uri": "https://localhost:8080/"
        },
        "id": "iqI-B3W03i0H",
        "outputId": "93438dc8-79a8-4476-af9b-8ec01b206eb3"
      },
      "execution_count": 75,
      "outputs": [
        {
          "output_type": "stream",
          "name": "stdout",
          "text": [
            "tf.Tensor([2 0 1], shape=(3,), dtype=int32)\n",
            "tf.Tensor([0 2 0], shape=(3,), dtype=int32)\n"
          ]
        }
      ]
    },
    {
      "cell_type": "markdown",
      "source": [
        "##Tensor Indexing"
      ],
      "metadata": {
        "id": "xCJLLU4z4_dK"
      }
    },
    {
      "cell_type": "code",
      "source": [
        "tensor_index=[1,2,3,4,5,6,7,8,9]\n",
        "print(tensor_index[0:7])\n",
        "print(tensor_index[0:7:2])"
      ],
      "metadata": {
        "colab": {
          "base_uri": "https://localhost:8080/"
        },
        "id": "76Nxcnfv5Bzu",
        "outputId": "74ee1cd6-3909-4e8e-d66c-8a3fee488c55"
      },
      "execution_count": 80,
      "outputs": [
        {
          "output_type": "stream",
          "name": "stdout",
          "text": [
            "[1, 2, 3, 4, 5, 6, 7]\n",
            "[1, 3, 5, 7]\n"
          ]
        }
      ]
    },
    {
      "cell_type": "code",
      "source": [
        "tensor_two_d=tf.constant([[1,2,3],\n",
        "                          [4,5,6],\n",
        "                          [7,8,9]])\n",
        "print(tensor_two_d[0:2,0:2])\n",
        "print(tensor_two_d[2,:])\n",
        "print(tensor_two_d[:,1])\n",
        "print(tensor_two_d[...,1])"
      ],
      "metadata": {
        "colab": {
          "base_uri": "https://localhost:8080/"
        },
        "id": "ZyzEHFP8I4nm",
        "outputId": "edeb5c42-37d9-4220-e20a-34a268497717"
      },
      "execution_count": 84,
      "outputs": [
        {
          "output_type": "stream",
          "name": "stdout",
          "text": [
            "tf.Tensor(\n",
            "[[1 2]\n",
            " [4 5]], shape=(2, 2), dtype=int32)\n",
            "tf.Tensor([7 8 9], shape=(3,), dtype=int32)\n",
            "tf.Tensor([2 5 8], shape=(3,), dtype=int32)\n",
            "tf.Tensor([2 5 8], shape=(3,), dtype=int32)\n"
          ]
        }
      ]
    },
    {
      "cell_type": "code",
      "source": [
        "three_d_tensor=tf.constant([[[1,2,3],\n",
        "                             [4,5,6],\n",
        "                             [7,8,9]],\n",
        "                            [[1,2,3],\n",
        "                            [5,6,7],\n",
        "                            [9,11,12]]])\n",
        "print(three_d_tensor[1,:,:])"
      ],
      "metadata": {
        "colab": {
          "base_uri": "https://localhost:8080/"
        },
        "id": "8zqUaINpKJiU",
        "outputId": "c1deb2f1-3ef4-4e34-d08e-d83bc6907a64"
      },
      "execution_count": 85,
      "outputs": [
        {
          "output_type": "stream",
          "name": "stdout",
          "text": [
            "tf.Tensor(\n",
            "[[ 1  2  3]\n",
            " [ 5  6  7]\n",
            " [ 9 11 12]], shape=(3, 3), dtype=int32)\n"
          ]
        }
      ]
    },
    {
      "cell_type": "markdown",
      "source": [
        "##Math Functions\n"
      ],
      "metadata": {
        "id": "iz4-VWdLS1NA"
      }
    },
    {
      "cell_type": "code",
      "source": [
        "#abs, add, multiply, subtract, divide, divide_no_nan"
      ],
      "metadata": {
        "id": "Oc5CT1xfS0Eh"
      },
      "execution_count": null,
      "outputs": []
    }
  ]
}